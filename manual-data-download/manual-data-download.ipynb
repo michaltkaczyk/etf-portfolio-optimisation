{
 "cells": [
  {
   "cell_type": "markdown",
   "metadata": {},
   "source": [
    "This notebook describes a backup plan for downloading data manually, should the `yfinance` package stop working (as it has, in the past).\n",
    "\n",
    "You would need to go to Yahoo! Finance website and download each ETF and currency file manually and put them in appropriate folder.\n",
    "\n",
    "The historical data should cover as long a time period as possible and come with a daily frequency."
   ]
  },
  {
   "cell_type": "code",
   "execution_count": 1,
   "metadata": {},
   "outputs": [],
   "source": [
    "import os\n",
    "import pandas as pd\n",
    "from datetime import date"
   ]
  },
  {
   "cell_type": "code",
   "execution_count": 2,
   "metadata": {},
   "outputs": [],
   "source": [
    "START_DATE = date(2001, 1, 1)\n",
    "END_DATE = date(2023, 12, 31)"
   ]
  },
  {
   "cell_type": "code",
   "execution_count": 3,
   "metadata": {},
   "outputs": [],
   "source": [
    "def read_yahoo_csv(filepath):\n",
    "    df = pd.read_csv(filepath)[[\"Date\", \"Adj Close\"]]\n",
    "    df[\"Date\"] = pd.to_datetime(df[\"Date\"])\n",
    "\n",
    "    column_name = \".\".join(os.path.basename(filepath).split(\".\")[:-1])\n",
    "\n",
    "    df.rename(columns={\"Adj Close\": column_name}, inplace=True)\n",
    "    return df\n",
    "\n",
    "\n",
    "def read_yahoo_folder(folderpath, start, end):\n",
    "    df = pd.DataFrame({\"Date\": pd.date_range(start, end, freq=\"D\")})\n",
    "\n",
    "    with os.scandir(folderpath) as entries:\n",
    "        for entry in entries:\n",
    "            df = df.merge(read_yahoo_csv(entry), on=\"Date\", how=\"left\")\n",
    "\n",
    "    df.set_index(\"Date\", inplace=True)\n",
    "    return df"
   ]
  },
  {
   "cell_type": "code",
   "execution_count": 4,
   "metadata": {},
   "outputs": [],
   "source": [
    "etf_df = read_yahoo_folder(\"data/etfs/\", START_DATE, END_DATE)\n",
    "exchange_rates_df = read_yahoo_folder(\"data/exchange-rates/\", START_DATE, END_DATE)"
   ]
  }
 ],
 "metadata": {
  "kernelspec": {
   "display_name": "venv",
   "language": "python",
   "name": "python3"
  },
  "language_info": {
   "codemirror_mode": {
    "name": "ipython",
    "version": 3
   },
   "file_extension": ".py",
   "mimetype": "text/x-python",
   "name": "python",
   "nbconvert_exporter": "python",
   "pygments_lexer": "ipython3",
   "version": "3.8.10"
  },
  "orig_nbformat": 4
 },
 "nbformat": 4,
 "nbformat_minor": 2
}
