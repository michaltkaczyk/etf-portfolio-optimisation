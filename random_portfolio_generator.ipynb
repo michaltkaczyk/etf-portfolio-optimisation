{
 "cells": [
  {
   "attachments": {},
   "cell_type": "markdown",
   "metadata": {},
   "source": [
    "A quick interlude here - let's build a random portfolio generator: "
   ]
  },
  {
   "cell_type": "code",
   "execution_count": 3,
   "metadata": {},
   "outputs": [
    {
     "data": {
      "text/plain": [
       "array([0.00703461, 0.17578516, 0.10348613, 0.15317797, 0.13106339,\n",
       "       0.15331101, 0.27614173])"
      ]
     },
     "execution_count": 3,
     "metadata": {},
     "output_type": "execute_result"
    }
   ],
   "source": [
    "import numpy as np\n",
    "\n",
    "def generate_random_weights(num_components):\n",
    "    vector = np.random.rand(num_components)\n",
    "    return vector / np.sum(vector)"
   ]
  }
 ],
 "metadata": {
  "kernelspec": {
   "display_name": "venv",
   "language": "python",
   "name": "python3"
  },
  "language_info": {
   "codemirror_mode": {
    "name": "ipython",
    "version": 3
   },
   "file_extension": ".py",
   "mimetype": "text/x-python",
   "name": "python",
   "nbconvert_exporter": "python",
   "pygments_lexer": "ipython3",
   "version": "3.10.4"
  },
  "orig_nbformat": 4,
  "vscode": {
   "interpreter": {
    "hash": "bc6dabe9ddd39174d4c417faf8c618f89933d967a3cbcdef43cc47f3be6028b5"
   }
  }
 },
 "nbformat": 4,
 "nbformat_minor": 2
}
