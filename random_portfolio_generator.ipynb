{
 "cells": [
  {
   "attachments": {},
   "cell_type": "markdown",
   "metadata": {},
   "source": [
    "# Random portfolio generator\n",
    "\n",
    "For visualisation purposes (efficient frontier) it might be useful to have a random portfolio generator. The idea is simple - we provide the number of components as an argument and get a vector of non-negative numbers that sum up to one.\n",
    "\n",
    "The most difficult part is making the distribution of the weights uniform. I use the approach discussed in [my other GitHub project](https://github.com/michaltkaczyk/nn-portfolio-optimisation)."
   ]
  },
  {
   "cell_type": "code",
   "execution_count": 3,
   "metadata": {},
   "outputs": [
    {
     "data": {
      "text/plain": [
       "array([0.00703461, 0.17578516, 0.10348613, 0.15317797, 0.13106339,\n",
       "       0.15331101, 0.27614173])"
      ]
     },
     "execution_count": 3,
     "metadata": {},
     "output_type": "execute_result"
    }
   ],
   "source": [
    "import numpy as np\n",
    "\n",
    "def generate_random_weights(num_components):\n",
    "    random_uniform = np.random.rand(num_components)\n",
    "    random_exponential = np.log(random_exponential)\n",
    "    return random_exponential / np.sum(random_exponential)"
   ]
  }
 ],
 "metadata": {
  "kernelspec": {
   "display_name": "venv",
   "language": "python",
   "name": "python3"
  },
  "language_info": {
   "codemirror_mode": {
    "name": "ipython",
    "version": 3
   },
   "file_extension": ".py",
   "mimetype": "text/x-python",
   "name": "python",
   "nbconvert_exporter": "python",
   "pygments_lexer": "ipython3",
   "version": "3.10.4 (tags/v3.10.4:9d38120, Mar 23 2022, 23:13:41) [MSC v.1929 64 bit (AMD64)]"
  },
  "orig_nbformat": 4,
  "vscode": {
   "interpreter": {
    "hash": "bc6dabe9ddd39174d4c417faf8c618f89933d967a3cbcdef43cc47f3be6028b5"
   }
  }
 },
 "nbformat": 4,
 "nbformat_minor": 2
}
